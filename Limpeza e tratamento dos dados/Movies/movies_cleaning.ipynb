{
 "cells": [
  {
   "cell_type": "code",
   "execution_count": 385,
   "id": "37d19ee2-b0c1-4caa-b154-cb142ccc4ddb",
   "metadata": {},
   "outputs": [],
   "source": [
    "import pandas as pd\n",
    "import seaborn as sea\n",
    "import statistics as stc"
   ]
  },
  {
   "cell_type": "code",
   "execution_count": 386,
   "id": "3ea49f46-b820-4137-930d-059e845b7f68",
   "metadata": {},
   "outputs": [
    {
     "data": {
      "text/html": [
       "<div>\n",
       "<style scoped>\n",
       "    .dataframe tbody tr th:only-of-type {\n",
       "        vertical-align: middle;\n",
       "    }\n",
       "\n",
       "    .dataframe tbody tr th {\n",
       "        vertical-align: top;\n",
       "    }\n",
       "\n",
       "    .dataframe thead th {\n",
       "        text-align: right;\n",
       "    }\n",
       "</style>\n",
       "<table border=\"1\" class=\"dataframe\">\n",
       "  <thead>\n",
       "    <tr style=\"text-align: right;\">\n",
       "      <th></th>\n",
       "      <th>MOVIES</th>\n",
       "      <th>YEAR</th>\n",
       "      <th>GENRE</th>\n",
       "      <th>RATING</th>\n",
       "      <th>ONE-LINE</th>\n",
       "      <th>STARS</th>\n",
       "      <th>VOTES</th>\n",
       "      <th>RunTime</th>\n",
       "      <th>Gross</th>\n",
       "    </tr>\n",
       "  </thead>\n",
       "  <tbody>\n",
       "    <tr>\n",
       "      <th>0</th>\n",
       "      <td>Blood Red Sky</td>\n",
       "      <td>(2021)</td>\n",
       "      <td>\\r\\nAction, Horror, Thriller</td>\n",
       "      <td>6.1</td>\n",
       "      <td>\\r\\nA woman with a mysterious illness is force...</td>\n",
       "      <td>\\r\\n    Director:\\r\\nPeter Thorwarth\\r\\n| \\r\\n...</td>\n",
       "      <td>21,062</td>\n",
       "      <td>121.0</td>\n",
       "      <td>NaN</td>\n",
       "    </tr>\n",
       "    <tr>\n",
       "      <th>1</th>\n",
       "      <td>Masters of the Universe: Revelation</td>\n",
       "      <td>(2021– )</td>\n",
       "      <td>\\r\\nAnimation, Action, Adventure</td>\n",
       "      <td>5.0</td>\n",
       "      <td>\\r\\nThe war for Eternia begins again in what m...</td>\n",
       "      <td>\\r\\n            \\r\\n    Stars:\\r\\nChris Wood, ...</td>\n",
       "      <td>17,870</td>\n",
       "      <td>25.0</td>\n",
       "      <td>NaN</td>\n",
       "    </tr>\n",
       "    <tr>\n",
       "      <th>2</th>\n",
       "      <td>The Walking Dead</td>\n",
       "      <td>(2010–2022)</td>\n",
       "      <td>\\r\\nDrama, Horror, Thriller</td>\n",
       "      <td>8.2</td>\n",
       "      <td>\\r\\nSheriff Deputy Rick Grimes wakes up from a...</td>\n",
       "      <td>\\r\\n            \\r\\n    Stars:\\r\\nAndrew Linco...</td>\n",
       "      <td>885,805</td>\n",
       "      <td>44.0</td>\n",
       "      <td>NaN</td>\n",
       "    </tr>\n",
       "    <tr>\n",
       "      <th>3</th>\n",
       "      <td>Rick and Morty</td>\n",
       "      <td>(2013– )</td>\n",
       "      <td>\\r\\nAnimation, Adventure, Comedy</td>\n",
       "      <td>9.2</td>\n",
       "      <td>\\r\\nAn animated series that follows the exploi...</td>\n",
       "      <td>\\r\\n            \\r\\n    Stars:\\r\\nJustin Roila...</td>\n",
       "      <td>414,849</td>\n",
       "      <td>23.0</td>\n",
       "      <td>NaN</td>\n",
       "    </tr>\n",
       "    <tr>\n",
       "      <th>4</th>\n",
       "      <td>Army of Thieves</td>\n",
       "      <td>(2021)</td>\n",
       "      <td>\\r\\nAction, Crime, Horror</td>\n",
       "      <td>NaN</td>\n",
       "      <td>\\r\\nA prequel, set before the events of Army o...</td>\n",
       "      <td>\\r\\n    Director:\\r\\nMatthias Schweighöfer\\r\\n...</td>\n",
       "      <td>NaN</td>\n",
       "      <td>NaN</td>\n",
       "      <td>NaN</td>\n",
       "    </tr>\n",
       "  </tbody>\n",
       "</table>\n",
       "</div>"
      ],
      "text/plain": [
       "                                MOVIES         YEAR  \\\n",
       "0                        Blood Red Sky       (2021)   \n",
       "1  Masters of the Universe: Revelation     (2021– )   \n",
       "2                     The Walking Dead  (2010–2022)   \n",
       "3                       Rick and Morty     (2013– )   \n",
       "4                      Army of Thieves       (2021)   \n",
       "\n",
       "                                          GENRE  RATING  \\\n",
       "0      \\r\\nAction, Horror, Thriller                 6.1   \n",
       "1  \\r\\nAnimation, Action, Adventure                 5.0   \n",
       "2       \\r\\nDrama, Horror, Thriller                 8.2   \n",
       "3  \\r\\nAnimation, Adventure, Comedy                 9.2   \n",
       "4         \\r\\nAction, Crime, Horror                 NaN   \n",
       "\n",
       "                                            ONE-LINE  \\\n",
       "0  \\r\\nA woman with a mysterious illness is force...   \n",
       "1  \\r\\nThe war for Eternia begins again in what m...   \n",
       "2  \\r\\nSheriff Deputy Rick Grimes wakes up from a...   \n",
       "3  \\r\\nAn animated series that follows the exploi...   \n",
       "4  \\r\\nA prequel, set before the events of Army o...   \n",
       "\n",
       "                                               STARS    VOTES  RunTime Gross  \n",
       "0  \\r\\n    Director:\\r\\nPeter Thorwarth\\r\\n| \\r\\n...   21,062    121.0   NaN  \n",
       "1  \\r\\n            \\r\\n    Stars:\\r\\nChris Wood, ...   17,870     25.0   NaN  \n",
       "2  \\r\\n            \\r\\n    Stars:\\r\\nAndrew Linco...  885,805     44.0   NaN  \n",
       "3  \\r\\n            \\r\\n    Stars:\\r\\nJustin Roila...  414,849     23.0   NaN  \n",
       "4  \\r\\n    Director:\\r\\nMatthias Schweighöfer\\r\\n...      NaN      NaN   NaN  "
      ]
     },
     "execution_count": 386,
     "metadata": {},
     "output_type": "execute_result"
    }
   ],
   "source": [
    "data = pd.read_csv('movies.csv')\n",
    "data.head()"
   ]
  },
  {
   "cell_type": "code",
   "execution_count": 387,
   "id": "26d7fa0b-5029-4f7c-9e97-0e3272ac3333",
   "metadata": {},
   "outputs": [
    {
     "data": {
      "text/plain": [
       "(9999, 9)"
      ]
     },
     "execution_count": 387,
     "metadata": {},
     "output_type": "execute_result"
    }
   ],
   "source": [
    "data.shape"
   ]
  },
  {
   "cell_type": "code",
   "execution_count": 388,
   "id": "93d7f9b4-748f-49bd-9a52-d97a6d04dd67",
   "metadata": {},
   "outputs": [
    {
     "data": {
      "text/plain": [
       "MOVIES         0\n",
       "YEAR         644\n",
       "GENRE         80\n",
       "RATING      1820\n",
       "ONE-LINE       0\n",
       "STARS          0\n",
       "VOTES       1820\n",
       "RunTime     2958\n",
       "Gross       9539\n",
       "dtype: int64"
      ]
     },
     "execution_count": 388,
     "metadata": {},
     "output_type": "execute_result"
    }
   ],
   "source": [
    "# verificando dados NaN\n",
    "data.isnull().sum()"
   ]
  },
  {
   "cell_type": "code",
   "execution_count": 389,
   "id": "3136cd52-dc52-4cab-8f08-86177d922b62",
   "metadata": {},
   "outputs": [
    {
     "data": {
      "text/plain": [
       "431"
      ]
     },
     "execution_count": 389,
     "metadata": {},
     "output_type": "execute_result"
    }
   ],
   "source": [
    "# verificando total de dados duplicados\n",
    "data.duplicated().sum()"
   ]
  },
  {
   "cell_type": "code",
   "execution_count": 390,
   "id": "7d65a103-df5f-41f7-a57e-cb6e7956bc1d",
   "metadata": {},
   "outputs": [
    {
     "data": {
      "text/plain": [
       "' VERIFICANDO VARIAVEIS CATEGORICAS'"
      ]
     },
     "execution_count": 390,
     "metadata": {},
     "output_type": "execute_result"
    }
   ],
   "source": [
    "''' VERIFICANDO VARIAVEIS CATEGORICAS'''"
   ]
  },
  {
   "cell_type": "code",
   "execution_count": 391,
   "id": "90b31571-3026-42b7-a5b9-d2322b4e4810",
   "metadata": {},
   "outputs": [
    {
     "data": {
      "text/plain": [
       "MOVIES\n",
       " 13 Reasons Why              10\n",
       " 1899                         8\n",
       " 3Below: Tales of Arcadia    14\n",
       " 50M2                         8\n",
       " 7Seeds                      23\n",
       "                             ..\n",
       "Ófærð                         1\n",
       "Órbita 9                      1\n",
       "Ôkami to kôshinryô            1\n",
       "Öldür Beni Sevgilim           1\n",
       "ÜberWeihnachten               1\n",
       "Length: 6817, dtype: int64"
      ]
     },
     "execution_count": 391,
     "metadata": {},
     "output_type": "execute_result"
    }
   ],
   "source": [
    "movies_group = data.groupby(data['MOVIES']).size()\n",
    "movies_group"
   ]
  },
  {
   "cell_type": "code",
   "execution_count": 392,
   "id": "1db219da-b5b2-4dfd-a5ce-9075d694a581",
   "metadata": {},
   "outputs": [
    {
     "data": {
      "text/plain": [
       "YEAR\n",
       "(1932)          2\n",
       "(1933)          1\n",
       "(1938)          1\n",
       "(1941)          1\n",
       "(1944)          1\n",
       "               ..\n",
       "(XII)           1\n",
       "(XIII)          1\n",
       "(XIV) (2017)    1\n",
       "(XLI)           1\n",
       "(XXIII)         1\n",
       "Length: 438, dtype: int64"
      ]
     },
     "execution_count": 392,
     "metadata": {},
     "output_type": "execute_result"
    }
   ],
   "source": [
    "# dados fora de padrão\n",
    "year_group = data.groupby(data['YEAR']).size()\n",
    "year_group"
   ]
  },
  {
   "cell_type": "code",
   "execution_count": 393,
   "id": "977e1ad4-f580-4704-9540-017f69fd7cb3",
   "metadata": {},
   "outputs": [
    {
     "data": {
      "text/plain": [
       "GENRE\n",
       "\\r\\nAction                                       36\n",
       "\\r\\nAction, Adventure                             5\n",
       "\\r\\nAction, Adventure, Biography                  4\n",
       "\\r\\nAction, Adventure, Comedy                   109\n",
       "\\r\\nAction, Adventure, Crime                     56\n",
       "                                               ... \n",
       "\\r\\nTalk-Show, Sport                              2\n",
       "\\r\\nThriller                                     65\n",
       "\\r\\nThriller, Mystery                             1\n",
       "\\r\\nWar                                           1\n",
       "\\r\\nWestern                                       6\n",
       "Length: 510, dtype: int64"
      ]
     },
     "execution_count": 393,
     "metadata": {},
     "output_type": "execute_result"
    }
   ],
   "source": [
    "genre_group = data.groupby(data['GENRE']).size()\n",
    "genre_group"
   ]
  },
  {
   "cell_type": "code",
   "execution_count": 394,
   "id": "2c591763-7507-4b46-bd07-0c692b748366",
   "metadata": {},
   "outputs": [
    {
     "data": {
      "text/plain": [
       "ONE-LINE\n",
       "\\r\\n\"All American\" star Taye Diggs will joins Drew to be chat. Plus, Iron Chef Michael Symon will teaches Drew how to be make a hydroponic indoor herb garden and then will be shares how to use ...                See full summary »\\r\\n    1\n",
       "\\r\\n\"All the Freckles in the World,\" set in 1990s Mexico City, is the story of a young-teen boy who is trying to get the attention of the prettiest girl at his school.                                                                       1\n",
       "\\r\\n\"An undercover detective crosses paths with familiar faces in the mafia underworld during the final years of Britain's ruling of Hong Kong.\"                                                                                              1\n",
       "\\r\\n\"Beautiful World,\" tells of an incident of school violence which leaves a young boy on the precipice of life and death as his family seeks for justice in his stead.                                                                      1\n",
       "\\r\\n\"Cobra Kai\" star Ralph Macchio will stops by to be chat. Actress Jenna Ortega on an her uplifting book, \"It's All Love.\" Then, in Beauty in A Box, Drew will surprises a viewer at home who ...                See full summary »\\r\\n     1\n",
       "                                                                                                                                                                                                                                             ..\n",
       "\\r\\nthe perspective of a self-involved cat (Pud) or a loving, hyperactive dog (Ham), who wake up one day to find that their human and ALL humans have disappeared from Earth. Desperate to find ...                See full summary »\\r\\n     1\n",
       "\\r\\nÁlvaro puts together a surprise dinner for Mía. Martín schemes to get revenge on Tobí. Meanwhile, Mercedes and her friend partake in a DNA test of their own.                                                                             1\n",
       "\\r\\nÁlvaro struggles to convince Juanma to play basketball again. Fede strives to earn Sofí's trust.                                                                                                                                          1\n",
       "\\r\\nÇok film hareketler bunlar They are a 2010 comedy movie where scenarios and acting are undertaken in BKM group.                                                                                                                           1\n",
       "\\r\\nÖykü and Dilara struggle during a parkour on the water and cause a rift among the contestants. Walter brings in a tank of jumpy toads.                                                                                                    1\n",
       "Length: 8688, dtype: int64"
      ]
     },
     "execution_count": 394,
     "metadata": {},
     "output_type": "execute_result"
    }
   ],
   "source": [
    "oneline_group = data.groupby(data['ONE-LINE']).size()\n",
    "oneline_group"
   ]
  },
  {
   "cell_type": "code",
   "execution_count": 395,
   "id": "8f0e43a6-1c3e-419a-af8d-9b04094b34cc",
   "metadata": {},
   "outputs": [
    {
     "data": {
      "text/plain": [
       "STARS\n",
       "\\r\\n                                                                                                                                                                                             456\n",
       "\\r\\n            \\r\\n    Star:\\r\\nAakash Gupta\\r\\n                                                                                                                                                  1\n",
       "\\r\\n            \\r\\n    Star:\\r\\nAayush Ailawadi\\r\\n                                                                                                                                               1\n",
       "\\r\\n            \\r\\n    Star:\\r\\nAdam Conover\\r\\n                                                                                                                                                  1\n",
       "\\r\\n            \\r\\n    Star:\\r\\nAlfredo Tavares\\r\\n                                                                                                                                               1\n",
       "                                                                                                                                                                                                ... \n",
       "\\r\\n    Directors:\\r\\nZoya Akhtar, \\r\\nDibakar Banerjee, \\r\\nKaran Johar, \\r\\nAnurag Kashyap\\r\\n| \\r\\n    Stars:\\r\\nJanhvi Kapoor, \\r\\nSurekha Sikri, \\r\\nAmruta Subhash, \\r\\nVijay Varma\\r\\n      1\n",
       "\\r\\n    Directors:\\r\\nZoya Akhtar, \\r\\nDibakar Banerjee, \\r\\nKaran Johar, \\r\\nAnurag Kashyap\\r\\n| \\r\\n    Stars:\\r\\nRadhika Apte, \\r\\nBhumi Pednekar, \\r\\nKiara Advani, \\r\\nVicky Kaushal\\r\\n      1\n",
       "\\r\\n    Directors:\\r\\nÁlvaro Longoria, \\r\\nGerardo Olivares\\r\\n| \\r\\n    Stars:\\r\\nLuis María Anson, \\r\\nInés Arrimadas, \\r\\nElsa Artadi, \\r\\nAntoni Bassas\\r\\n                                    1\n",
       "\\r\\n    Directors:\\r\\nÓscar Pedraza, \\r\\nAlbert Pintó\\r\\n| \\r\\n    Stars:\\r\\nVerónica Sánchez, \\r\\nMiguel Ángel Silvestre, \\r\\nAsier Etxeandia, \\r\\nLali Espósito\\r\\n                              1\n",
       "\\r\\n    Directors:\\r\\nÓscar Pedraza, \\r\\nDavid Victori\\r\\n| \\r\\n    Stars:\\r\\nVerónica Sánchez, \\r\\nMiguel Ángel Silvestre, \\r\\nAsier Etxeandia, \\r\\nLali Espósito\\r\\n                             1\n",
       "Length: 7877, dtype: int64"
      ]
     },
     "execution_count": 395,
     "metadata": {},
     "output_type": "execute_result"
    }
   ],
   "source": [
    "stars_group = data.groupby(data['STARS']).size()\n",
    "stars_group"
   ]
  },
  {
   "cell_type": "code",
   "execution_count": 396,
   "id": "19b58a4e-1f8c-47d5-9b98-302085c766de",
   "metadata": {},
   "outputs": [
    {
     "data": {
      "text/plain": [
       "' VERIFICANDO VARIAVEIS NUMERICAS'"
      ]
     },
     "execution_count": 396,
     "metadata": {},
     "output_type": "execute_result"
    }
   ],
   "source": [
    "''' VERIFICANDO VARIAVEIS NUMERICAS'''"
   ]
  },
  {
   "cell_type": "code",
   "execution_count": 397,
   "id": "f4f97eb5-20c6-4e7d-b3f3-fe9834b4e71f",
   "metadata": {},
   "outputs": [
    {
     "data": {
      "text/plain": [
       "count    8179.000000\n",
       "mean        6.921176\n",
       "std         1.220232\n",
       "min         1.100000\n",
       "25%         6.200000\n",
       "50%         7.100000\n",
       "75%         7.800000\n",
       "max         9.900000\n",
       "Name: RATING, dtype: float64"
      ]
     },
     "execution_count": 397,
     "metadata": {},
     "output_type": "execute_result"
    }
   ],
   "source": [
    "data['RATING'].describe()"
   ]
  },
  {
   "cell_type": "code",
   "execution_count": 398,
   "id": "8593ab11-f1c8-4c61-a7c9-aa82d8cab05b",
   "metadata": {},
   "outputs": [
    {
     "name": "stderr",
     "output_type": "stream",
     "text": [
      "C:\\Users\\Kevin\\anaconda3\\lib\\site-packages\\seaborn\\_decorators.py:36: FutureWarning: Pass the following variable as a keyword arg: x. From version 0.12, the only valid positional argument will be `data`, and passing other arguments without an explicit keyword will result in an error or misinterpretation.\n",
      "  warnings.warn(\n"
     ]
    },
    {
     "data": {
      "text/plain": [
       "Text(0.5, 1.0, 'RATING')"
      ]
     },
     "execution_count": 398,
     "metadata": {},
     "output_type": "execute_result"
    },
    {
     "data": {
      "image/png": "[encoded data removed]",
      "text/plain": [
       "<Figure size 640x480 with 1 Axes>"
      ]
     },
     "metadata": {},
     "output_type": "display_data"
    }
   ],
   "source": [
    "# temos dados fora do conjunto\n",
    "sea.boxplot(data['RATING']).set_title('RATING')"
   ]
  },
  {
   "cell_type": "code",
   "execution_count": 399,
   "id": "f39e5421-caa3-4aae-8c01-f72b6fabf784",
   "metadata": {},
   "outputs": [
    {
     "name": "stderr",
     "output_type": "stream",
     "text": [
      "C:\\Users\\Kevin\\anaconda3\\lib\\site-packages\\seaborn\\distributions.py:2619: FutureWarning: `distplot` is a deprecated function and will be removed in a future version. Please adapt your code to use either `displot` (a figure-level function with similar flexibility) or `histplot` (an axes-level function for histograms).\n",
      "  warnings.warn(msg, FutureWarning)\n"
     ]
    },
    {
     "data": {
      "text/plain": [
       "Text(0.5, 1.0, 'RATING')"
      ]
     },
     "execution_count": 399,
     "metadata": {},
     "output_type": "execute_result"
    },
    {
     "data": {
      "image/png": "[encoded data removed]",
      "text/plain": [
       "<Figure size 640x480 with 1 Axes>"
      ]
     },
     "metadata": {},
     "output_type": "display_data"
    }
   ],
   "source": [
    "sea.distplot(data['RATING']).set_title('RATING')"
   ]
  },
  {
   "cell_type": "code",
   "execution_count": 400,
   "id": "746de177-ff81-4fc5-a6c0-378977ec9335",
   "metadata": {},
   "outputs": [
    {
     "data": {
      "text/html": [
       "<div>\n",
       "<style scoped>\n",
       "    .dataframe tbody tr th:only-of-type {\n",
       "        vertical-align: middle;\n",
       "    }\n",
       "\n",
       "    .dataframe tbody tr th {\n",
       "        vertical-align: top;\n",
       "    }\n",
       "\n",
       "    .dataframe thead th {\n",
       "        text-align: right;\n",
       "    }\n",
       "</style>\n",
       "<table border=\"1\" class=\"dataframe\">\n",
       "  <thead>\n",
       "    <tr style=\"text-align: right;\">\n",
       "      <th></th>\n",
       "      <th>MOVIES</th>\n",
       "      <th>YEAR</th>\n",
       "      <th>GENRE</th>\n",
       "      <th>RATING</th>\n",
       "      <th>ONE-LINE</th>\n",
       "      <th>STARS</th>\n",
       "      <th>VOTES</th>\n",
       "      <th>RunTime</th>\n",
       "      <th>Gross</th>\n",
       "    </tr>\n",
       "  </thead>\n",
       "  <tbody>\n",
       "    <tr>\n",
       "      <th>0</th>\n",
       "      <td>Blood Red Sky</td>\n",
       "      <td>(2021)</td>\n",
       "      <td>\\r\\nAction, Horror, Thriller</td>\n",
       "      <td>6.1</td>\n",
       "      <td>\\r\\nA woman with a mysterious illness is force...</td>\n",
       "      <td>\\r\\n    Director:\\r\\nPeter Thorwarth\\r\\n| \\r\\n...</td>\n",
       "      <td>21062.0</td>\n",
       "      <td>121.0</td>\n",
       "      <td>NaN</td>\n",
       "    </tr>\n",
       "    <tr>\n",
       "      <th>1</th>\n",
       "      <td>Masters of the Universe: Revelation</td>\n",
       "      <td>(2021– )</td>\n",
       "      <td>\\r\\nAnimation, Action, Adventure</td>\n",
       "      <td>5.0</td>\n",
       "      <td>\\r\\nThe war for Eternia begins again in what m...</td>\n",
       "      <td>\\r\\n            \\r\\n    Stars:\\r\\nChris Wood, ...</td>\n",
       "      <td>17870.0</td>\n",
       "      <td>25.0</td>\n",
       "      <td>NaN</td>\n",
       "    </tr>\n",
       "    <tr>\n",
       "      <th>2</th>\n",
       "      <td>The Walking Dead</td>\n",
       "      <td>(2010–2022)</td>\n",
       "      <td>\\r\\nDrama, Horror, Thriller</td>\n",
       "      <td>8.2</td>\n",
       "      <td>\\r\\nSheriff Deputy Rick Grimes wakes up from a...</td>\n",
       "      <td>\\r\\n            \\r\\n    Stars:\\r\\nAndrew Linco...</td>\n",
       "      <td>885805.0</td>\n",
       "      <td>44.0</td>\n",
       "      <td>NaN</td>\n",
       "    </tr>\n",
       "    <tr>\n",
       "      <th>3</th>\n",
       "      <td>Rick and Morty</td>\n",
       "      <td>(2013– )</td>\n",
       "      <td>\\r\\nAnimation, Adventure, Comedy</td>\n",
       "      <td>9.2</td>\n",
       "      <td>\\r\\nAn animated series that follows the exploi...</td>\n",
       "      <td>\\r\\n            \\r\\n    Stars:\\r\\nJustin Roila...</td>\n",
       "      <td>414849.0</td>\n",
       "      <td>23.0</td>\n",
       "      <td>NaN</td>\n",
       "    </tr>\n",
       "    <tr>\n",
       "      <th>4</th>\n",
       "      <td>Army of Thieves</td>\n",
       "      <td>(2021)</td>\n",
       "      <td>\\r\\nAction, Crime, Horror</td>\n",
       "      <td>NaN</td>\n",
       "      <td>\\r\\nA prequel, set before the events of Army o...</td>\n",
       "      <td>\\r\\n    Director:\\r\\nMatthias Schweighöfer\\r\\n...</td>\n",
       "      <td>NaN</td>\n",
       "      <td>NaN</td>\n",
       "      <td>NaN</td>\n",
       "    </tr>\n",
       "  </tbody>\n",
       "</table>\n",
       "</div>"
      ],
      "text/plain": [
       "                                MOVIES         YEAR  \\\n",
       "0                        Blood Red Sky       (2021)   \n",
       "1  Masters of the Universe: Revelation     (2021– )   \n",
       "2                     The Walking Dead  (2010–2022)   \n",
       "3                       Rick and Morty     (2013– )   \n",
       "4                      Army of Thieves       (2021)   \n",
       "\n",
       "                                          GENRE  RATING  \\\n",
       "0      \\r\\nAction, Horror, Thriller                 6.1   \n",
       "1  \\r\\nAnimation, Action, Adventure                 5.0   \n",
       "2       \\r\\nDrama, Horror, Thriller                 8.2   \n",
       "3  \\r\\nAnimation, Adventure, Comedy                 9.2   \n",
       "4         \\r\\nAction, Crime, Horror                 NaN   \n",
       "\n",
       "                                            ONE-LINE  \\\n",
       "0  \\r\\nA woman with a mysterious illness is force...   \n",
       "1  \\r\\nThe war for Eternia begins again in what m...   \n",
       "2  \\r\\nSheriff Deputy Rick Grimes wakes up from a...   \n",
       "3  \\r\\nAn animated series that follows the exploi...   \n",
       "4  \\r\\nA prequel, set before the events of Army o...   \n",
       "\n",
       "                                               STARS     VOTES  RunTime Gross  \n",
       "0  \\r\\n    Director:\\r\\nPeter Thorwarth\\r\\n| \\r\\n...   21062.0    121.0   NaN  \n",
       "1  \\r\\n            \\r\\n    Stars:\\r\\nChris Wood, ...   17870.0     25.0   NaN  \n",
       "2  \\r\\n            \\r\\n    Stars:\\r\\nAndrew Linco...  885805.0     44.0   NaN  \n",
       "3  \\r\\n            \\r\\n    Stars:\\r\\nJustin Roila...  414849.0     23.0   NaN  \n",
       "4  \\r\\n    Director:\\r\\nMatthias Schweighöfer\\r\\n...       NaN      NaN   NaN  "
      ]
     },
     "execution_count": 400,
     "metadata": {},
     "output_type": "execute_result"
    }
   ],
   "source": [
    "# convertendo ',' em '.' e transformando a feature para numérica\n",
    "data['VOTES'] = data['VOTES'].replace({',': ''}, regex=True)\n",
    "data['VOTES'] = pd.to_numeric(data['VOTES'])\n",
    "data.head()"
   ]
  },
  {
   "cell_type": "code",
   "execution_count": 401,
   "id": "b965ec51-f8a3-4d64-b4c4-619dab134a7d",
   "metadata": {},
   "outputs": [
    {
     "data": {
      "text/plain": [
       "count    8.179000e+03\n",
       "mean     1.512406e+04\n",
       "std      7.005458e+04\n",
       "min      5.000000e+00\n",
       "25%      1.660000e+02\n",
       "50%      7.890000e+02\n",
       "75%      3.772000e+03\n",
       "max      1.713028e+06\n",
       "Name: VOTES, dtype: float64"
      ]
     },
     "execution_count": 401,
     "metadata": {},
     "output_type": "execute_result"
    }
   ],
   "source": [
    "data['VOTES'].describe()"
   ]
  },
  {
   "cell_type": "code",
   "execution_count": 402,
   "id": "10de47d2-fc2e-40a4-82d5-0669b4cc755f",
   "metadata": {},
   "outputs": [
    {
     "name": "stderr",
     "output_type": "stream",
     "text": [
      "C:\\Users\\Kevin\\anaconda3\\lib\\site-packages\\seaborn\\_decorators.py:36: FutureWarning: Pass the following variable as a keyword arg: x. From version 0.12, the only valid positional argument will be `data`, and passing other arguments without an explicit keyword will result in an error or misinterpretation.\n",
      "  warnings.warn(\n"
     ]
    },
    {
     "data": {
      "text/plain": [
       "Text(0.5, 1.0, 'VOTES')"
      ]
     },
     "execution_count": 402,
     "metadata": {},
     "output_type": "execute_result"
    },
    {
     "data": {
      "image/png": "[encoded data removed]",
      "text/plain": [
       "<Figure size 640x480 with 1 Axes>"
      ]
     },
     "metadata": {},
     "output_type": "display_data"
    }
   ],
   "source": [
    "sea.boxplot(data['VOTES']).set_title('VOTES')"
   ]
  },
  {
   "cell_type": "code",
   "execution_count": 403,
   "id": "ba438c1c-d49a-4d18-ab6e-e070df3558fd",
   "metadata": {},
   "outputs": [
    {
     "name": "stderr",
     "output_type": "stream",
     "text": [
      "C:\\Users\\Kevin\\anaconda3\\lib\\site-packages\\seaborn\\distributions.py:2619: FutureWarning: `distplot` is a deprecated function and will be removed in a future version. Please adapt your code to use either `displot` (a figure-level function with similar flexibility) or `histplot` (an axes-level function for histograms).\n",
      "  warnings.warn(msg, FutureWarning)\n"
     ]
    },
    {
     "data": {
      "text/plain": [
       "Text(0.5, 1.0, 'VOTES')"
      ]
     },
     "execution_count": 403,
     "metadata": {},
     "output_type": "execute_result"
    },
    {
     "data": {
      "image/png": "[encoded data removed]",
      "text/plain": [
       "<Figure size 640x480 with 1 Axes>"
      ]
     },
     "metadata": {},
     "output_type": "display_data"
    }
   ],
   "source": [
    "sea.distplot(data['VOTES']).set_title('VOTES')"
   ]
  },
  {
   "cell_type": "code",
   "execution_count": 404,
   "id": "78698ed9-6a23-4121-89b8-e3bee4c4f4b5",
   "metadata": {},
   "outputs": [
    {
     "data": {
      "text/plain": [
       "count    7041.000000\n",
       "mean       68.688539\n",
       "std        47.258056\n",
       "min         1.000000\n",
       "25%        36.000000\n",
       "50%        60.000000\n",
       "75%        95.000000\n",
       "max       853.000000\n",
       "Name: RunTime, dtype: float64"
      ]
     },
     "execution_count": 404,
     "metadata": {},
     "output_type": "execute_result"
    }
   ],
   "source": [
    "data['RunTime'].describe()"
   ]
  },
  {
   "cell_type": "code",
   "execution_count": 405,
   "id": "f24a3d3f-e8a2-44c8-98ed-caadc7586c39",
   "metadata": {},
   "outputs": [
    {
     "name": "stderr",
     "output_type": "stream",
     "text": [
      "C:\\Users\\Kevin\\anaconda3\\lib\\site-packages\\seaborn\\_decorators.py:36: FutureWarning: Pass the following variable as a keyword arg: x. From version 0.12, the only valid positional argument will be `data`, and passing other arguments without an explicit keyword will result in an error or misinterpretation.\n",
      "  warnings.warn(\n"
     ]
    },
    {
     "data": {
      "text/plain": [
       "Text(0.5, 1.0, 'RunTime')"
      ]
     },
     "execution_count": 405,
     "metadata": {},
     "output_type": "execute_result"
    },
    {
     "data": {
      "image/png": "[encoded data removed]",
      "text/plain": [
       "<Figure size 640x480 with 1 Axes>"
      ]
     },
     "metadata": {},
     "output_type": "display_data"
    }
   ],
   "source": [
    "sea.boxplot(data['RunTime']).set_title('RunTime')"
   ]
  },
  {
   "cell_type": "code",
   "execution_count": 406,
   "id": "b92ed7b6-2c68-4315-8e48-05b42c6577bc",
   "metadata": {},
   "outputs": [
    {
     "name": "stderr",
     "output_type": "stream",
     "text": [
      "C:\\Users\\Kevin\\anaconda3\\lib\\site-packages\\seaborn\\distributions.py:2619: FutureWarning: `distplot` is a deprecated function and will be removed in a future version. Please adapt your code to use either `displot` (a figure-level function with similar flexibility) or `histplot` (an axes-level function for histograms).\n",
      "  warnings.warn(msg, FutureWarning)\n"
     ]
    },
    {
     "data": {
      "text/plain": [
       "Text(0.5, 1.0, 'RunTime')"
      ]
     },
     "execution_count": 406,
     "metadata": {},
     "output_type": "execute_result"
    },
    {
     "data": {
      "image/png": "[encoded data removed]",
      "text/plain": [
       "<Figure size 640x480 with 1 Axes>"
      ]
     },
     "metadata": {},
     "output_type": "display_data"
    }
   ],
   "source": [
    "sea.distplot(data['RunTime']).set_title('RunTime')"
   ]
  },
  {
   "cell_type": "code",
   "execution_count": 407,
   "id": "8844dc31-d48e-4c0a-b74f-0f229f0659e2",
   "metadata": {},
   "outputs": [
    {
     "ename": "ValueError",
     "evalue": "Unable to parse string \"$75.47\" at position 77",
     "output_type": "error",
     "traceback": [
      "\u001b[1;31m---------------------------------------------------------------------------\u001b[0m",
      "\u001b[1;31mValueError\u001b[0m                                Traceback (most recent call last)",
      "\u001b[1;32m~\\anaconda3\\lib\\site-packages\\pandas\\_libs\\lib.pyx\u001b[0m in \u001b[0;36mpandas._libs.lib.maybe_convert_numeric\u001b[1;34m()\u001b[0m\n",
      "\u001b[1;31mValueError\u001b[0m: Unable to parse string \"$75.47\"",
      "\nDuring handling of the above exception, another exception occurred:\n",
      "\u001b[1;31mValueError\u001b[0m                                Traceback (most recent call last)",
      "\u001b[1;32m~\\AppData\\Local\\Temp\\ipykernel_10700\\1910981230.py\u001b[0m in \u001b[0;36m<module>\u001b[1;34m\u001b[0m\n\u001b[0;32m      2\u001b[0m \u001b[0mdata\u001b[0m\u001b[1;33m[\u001b[0m\u001b[1;34m'Gross'\u001b[0m\u001b[1;33m]\u001b[0m \u001b[1;33m=\u001b[0m \u001b[0mdata\u001b[0m\u001b[1;33m[\u001b[0m\u001b[1;34m'Gross'\u001b[0m\u001b[1;33m]\u001b[0m\u001b[1;33m.\u001b[0m\u001b[0mreplace\u001b[0m\u001b[1;33m(\u001b[0m\u001b[1;33m{\u001b[0m\u001b[1;34m'M'\u001b[0m\u001b[1;33m:\u001b[0m\u001b[1;34m''\u001b[0m\u001b[1;33m}\u001b[0m\u001b[1;33m,\u001b[0m \u001b[0mregex\u001b[0m\u001b[1;33m=\u001b[0m\u001b[1;32mTrue\u001b[0m\u001b[1;33m)\u001b[0m\u001b[1;33m\u001b[0m\u001b[1;33m\u001b[0m\u001b[0m\n\u001b[0;32m      3\u001b[0m \u001b[1;31m#data['Gross'] = data['Gross'].replace(['$','M'], '', regex=True)\u001b[0m\u001b[1;33m\u001b[0m\u001b[1;33m\u001b[0m\u001b[0m\n\u001b[1;32m----> 4\u001b[1;33m \u001b[0mdata\u001b[0m\u001b[1;33m[\u001b[0m\u001b[1;34m'Gross'\u001b[0m\u001b[1;33m]\u001b[0m \u001b[1;33m=\u001b[0m \u001b[0mpd\u001b[0m\u001b[1;33m.\u001b[0m\u001b[0mto_numeric\u001b[0m\u001b[1;33m(\u001b[0m\u001b[0mdata\u001b[0m\u001b[1;33m[\u001b[0m\u001b[1;34m'Gross'\u001b[0m\u001b[1;33m]\u001b[0m\u001b[1;33m)\u001b[0m\u001b[1;33m\u001b[0m\u001b[1;33m\u001b[0m\u001b[0m\n\u001b[0m",
      "\u001b[1;32m~\\anaconda3\\lib\\site-packages\\pandas\\core\\tools\\numeric.py\u001b[0m in \u001b[0;36mto_numeric\u001b[1;34m(arg, errors, downcast)\u001b[0m\n\u001b[0;32m    182\u001b[0m         \u001b[0mcoerce_numeric\u001b[0m \u001b[1;33m=\u001b[0m \u001b[0merrors\u001b[0m \u001b[1;32mnot\u001b[0m \u001b[1;32min\u001b[0m \u001b[1;33m(\u001b[0m\u001b[1;34m\"ignore\"\u001b[0m\u001b[1;33m,\u001b[0m \u001b[1;34m\"raise\"\u001b[0m\u001b[1;33m)\u001b[0m\u001b[1;33m\u001b[0m\u001b[1;33m\u001b[0m\u001b[0m\n\u001b[0;32m    183\u001b[0m         \u001b[1;32mtry\u001b[0m\u001b[1;33m:\u001b[0m\u001b[1;33m\u001b[0m\u001b[1;33m\u001b[0m\u001b[0m\n\u001b[1;32m--> 184\u001b[1;33m             values, _ = lib.maybe_convert_numeric(\n\u001b[0m\u001b[0;32m    185\u001b[0m                 \u001b[0mvalues\u001b[0m\u001b[1;33m,\u001b[0m \u001b[0mset\u001b[0m\u001b[1;33m(\u001b[0m\u001b[1;33m)\u001b[0m\u001b[1;33m,\u001b[0m \u001b[0mcoerce_numeric\u001b[0m\u001b[1;33m=\u001b[0m\u001b[0mcoerce_numeric\u001b[0m\u001b[1;33m\u001b[0m\u001b[1;33m\u001b[0m\u001b[0m\n\u001b[0;32m    186\u001b[0m             )\n",
      "\u001b[1;32m~\\anaconda3\\lib\\site-packages\\pandas\\_libs\\lib.pyx\u001b[0m in \u001b[0;36mpandas._libs.lib.maybe_convert_numeric\u001b[1;34m()\u001b[0m\n",
      "\u001b[1;31mValueError\u001b[0m: Unable to parse string \"$75.47\" at position 77"
     ]
    }
   ],
   "source": [
    "data['Gross'] = data['Gross'].replace({'$':''}, regex=True)\n",
    "data['Gross'] = data['Gross'].replace({'M':''}, regex=True)\n",
    "#data['Gross'] = data['Gross'].replace(['$','M'], '', regex=True)\n",
    "data['Gross'] = pd.to_numeric(data['Gross'])"
   ]
  },
  {
   "cell_type": "code",
   "execution_count": null,
   "id": "de443d23-dd62-46cc-9fb4-987b3f296dea",
   "metadata": {},
   "outputs": [],
   "source": [
    "''' Problemas identificados\n",
    "    \n",
    "    1 - dados NaN\n",
    "    2 - dados duplicados\n",
    "    3 - dados fora de padrão em anos\n",
    "    4 - dados fora do conjunto em rating\n",
    "    5 - dados fora do conjunto em votes\n",
    "    6 - dados fora do conjunto em runtime\n",
    "    7 - ajustar os dados de gross\n",
    "'''"
   ]
  }
 ],
 "metadata": {
  "kernelspec": {
   "display_name": "Python 3 (ipykernel)",
   "language": "python",
   "name": "python3"
  },
  "language_info": {
   "codemirror_mode": {
    "name": "ipython",
    "version": 3
   },
   "file_extension": ".py",
   "mimetype": "text/x-python",
   "name": "python",
   "nbconvert_exporter": "python",
   "pygments_lexer": "ipython3",
   "version": "3.9.13"
  }
 },
 "nbformat": 4,
 "nbformat_minor": 5
}
